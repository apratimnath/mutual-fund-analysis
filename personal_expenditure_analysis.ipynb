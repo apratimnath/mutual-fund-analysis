{
 "cells": [
  {
   "cell_type": "markdown",
   "metadata": {},
   "source": [
    "# Personal Expenditure Analysis\n",
    "## Data gathered from \"Money Manager\", to calculate personal income and expenditure"
   ]
  },
  {
   "cell_type": "markdown",
   "metadata": {},
   "source": [
    "## Python Flask App Integration to Mutual Fund Backend, to get personal finance visualization"
   ]
  },
  {
   "cell_type": "markdown",
   "metadata": {},
   "source": [
    "### Problem Statement\n",
    "\n",
    "The daily finaces are recorded on an Android Based Application, \"Money Manager\"\n",
    "The data from the same is exxported and loaded to Google Sheet, to achieve the following -\n",
    "\n",
    "1. Identify MoM Expenditure sum change.\n",
    "2. Calculate the overall expenditure change every Month (SUM, MEAN & STD).\n",
    "3. For each month get the different categories of expenditure and income.\n",
    "4. For each month get the Top 5 Spend Categories (Grouped Column Chart)\n",
    "5. Once the datapoints cross a certain threshold, expenditure prediction (Time Series)\n",
    "6. Compare the sum change of income and expenditure every month"
   ]
  },
  {
   "cell_type": "markdown",
   "metadata": {},
   "source": [
    "### All imports at one place"
   ]
  },
  {
   "cell_type": "code",
   "execution_count": 1,
   "metadata": {},
   "outputs": [
    {
     "name": "stderr",
     "output_type": "stream",
     "text": [
      "/usr/lib/python3/dist-packages/Crypto/Random/Fortuna/FortunaGenerator.py:28: SyntaxWarning: \"is\" with a literal. Did you mean \"==\"?\n",
      "  if sys.version_info[0] is 2 and  sys.version_info[1] is 1:\n",
      "/usr/lib/python3/dist-packages/Crypto/Random/Fortuna/FortunaGenerator.py:28: SyntaxWarning: \"is\" with a literal. Did you mean \"==\"?\n",
      "  if sys.version_info[0] is 2 and  sys.version_info[1] is 1:\n"
     ]
    }
   ],
   "source": [
    "import gspread\n",
    "from oauth2client.service_account import ServiceAccountCredentials\n",
    "import pandas as pd\n",
    "from datetime import datetime,timedelta\n",
    "import smtplib\n",
    "from email.message import EmailMessage\n",
    "import json\n",
    "import numpy as np"
   ]
  },
  {
   "cell_type": "markdown",
   "metadata": {},
   "source": [
    "### Fetch Data from Google Sheet"
   ]
  },
  {
   "cell_type": "code",
   "execution_count": 2,
   "metadata": {},
   "outputs": [],
   "source": [
    "#Defining the scope of the OAuth Authentication\n",
    "scope = [\"https://spreadsheets.google.com/feeds\",'https://www.googleapis.com/auth/spreadsheets',\"https://www.googleapis.com/auth/drive.file\",\"https://www.googleapis.com/auth/drive\"]\n",
    "         \n",
    "#Getting the credentials\n",
    "creds = ServiceAccountCredentials.from_json_keyfile_name(\"./flask_app/src/secret_config/google_credentials.json\", scope)\n",
    "#Connecting to the Google Spreadsheet Client\n",
    "client = gspread.authorize(creds)\n",
    "\n",
    "#Getting the spreadsheet\n",
    "sheet = client.open(\"Personal_Expenditure\").sheet1"
   ]
  },
  {
   "cell_type": "markdown",
   "metadata": {},
   "source": [
    "### Convert the data to a base data-frame"
   ]
  },
  {
   "cell_type": "code",
   "execution_count": 3,
   "metadata": {},
   "outputs": [],
   "source": [
    "all_personal_finance_data = sheet.get_all_records()\n",
    "\n",
    "#Create the dataframe\n",
    "base_data = pd.DataFrame(all_personal_finance_data)"
   ]
  },
  {
   "cell_type": "markdown",
   "metadata": {},
   "source": [
    "### Exporatory Ananlysis, Data cleanup"
   ]
  },
  {
   "cell_type": "code",
   "execution_count": 4,
   "metadata": {},
   "outputs": [
    {
     "name": "stdout",
     "output_type": "stream",
     "text": [
      "           Date Income/Expenses   Category              Memo   Amount\n",
      "0    11/28/2020        Expenses  Cigarette           Unknown   -311.0\n",
      "1    11/14/2020        Expenses  Cigarette           Unknown   -480.0\n",
      "2    11/13/2020        Expenses  Cigarette           Unknown    -72.0\n",
      "3    11/12/2020        Expenses  Telephone  Airtel_My_Second    -49.0\n",
      "4     11/9/2020        Expenses      Bills         Rentickle   -986.0\n",
      "..          ...             ...        ...               ...      ...\n",
      "182    5/1/2020        Expenses      Bills         Rentickle   -200.0\n",
      "183    5/1/2020        Expenses  Insurance             Paytm  -1000.0\n",
      "184    5/1/2020        Expenses      Bills       Electricity    -40.0\n",
      "185    5/1/2020        Expenses       Home                Ma  -5000.0\n",
      "186    5/1/2020          Income     Salary           Unknown  28158.0\n",
      "\n",
      "[187 rows x 5 columns]\n"
     ]
    }
   ],
   "source": [
    "base_data.replace([''],'Unknown',inplace=True)\n",
    "\n",
    "print(base_data)"
   ]
  },
  {
   "cell_type": "markdown",
   "metadata": {},
   "source": [
    "### Addition of extra columns\n",
    "\n",
    "The followings columns are added to aid calculations -\n",
    "1. Month-Year (MM-YYYY)\n",
    "2. Day of the Week\n",
    "\n",
    "The following columns are removed -\n",
    "1. Details of each category\n",
    "\n",
    "The expenses column is converted to Integer"
   ]
  },
  {
   "cell_type": "code",
   "execution_count": 5,
   "metadata": {},
   "outputs": [
    {
     "name": "stdout",
     "output_type": "stream",
     "text": [
      "           date      type   category   amount month_year day_of_week\n",
      "0    11/28/2020  Expenses  Cigarette   -311.0   Nov-2020    Saturday\n",
      "1    11/14/2020  Expenses  Cigarette   -480.0   Nov-2020    Saturday\n",
      "2    11/13/2020  Expenses  Cigarette    -72.0   Nov-2020      Friday\n",
      "3    11/12/2020  Expenses  Telephone    -49.0   Nov-2020    Thursday\n",
      "4     11/9/2020  Expenses      Bills   -986.0   Nov-2020      Monday\n",
      "..          ...       ...        ...      ...        ...         ...\n",
      "182    5/1/2020  Expenses      Bills   -200.0   May-2020      Friday\n",
      "183    5/1/2020  Expenses  Insurance  -1000.0   May-2020      Friday\n",
      "184    5/1/2020  Expenses      Bills    -40.0   May-2020      Friday\n",
      "185    5/1/2020  Expenses       Home  -5000.0   May-2020      Friday\n",
      "186    5/1/2020    Income     Salary  28158.0   May-2020      Friday\n",
      "\n",
      "[187 rows x 6 columns]\n"
     ]
    }
   ],
   "source": [
    "#Dropping the Memo column\n",
    "base_data = base_data.drop(['Memo'],axis=1)\n",
    "\n",
    "#Renaming the columns to maintain consistency in snake_case\n",
    "base_data.columns = ['date','type','category','amount']\n",
    "\n",
    "#Adding the Month-Year Column\n",
    "def month_year(date_text):\n",
    "    try:\n",
    "        return datetime.strptime(date_text, '%m/%d/%Y').strftime(\"%b-%Y\")\n",
    "    except ValueError:\n",
    "        print(date_text)\n",
    "        return date_text\n",
    "    \n",
    "#Adding the Day of Week Column\n",
    "def day_of_week(date_text):\n",
    "    try:\n",
    "        return datetime.strptime(date_text, '%m/%d/%Y').strftime(\"%A\")\n",
    "    except ValueError:\n",
    "        print(date_text)\n",
    "        return date_text\n",
    "    \n",
    "base_data['month_year'] = base_data['date'].apply(month_year)\n",
    "base_data['day_of_week'] = base_data['date'].apply(day_of_week)\n",
    "\n",
    "print(base_data)"
   ]
  },
  {
   "cell_type": "markdown",
   "metadata": {},
   "source": [
    "### Divide to expense and income frame\n",
    "\n",
    "This is the point in the .py code where it is declared as global.\n",
    "For all the upcoming cells the values will be taken from income and expense dataframe."
   ]
  },
  {
   "cell_type": "code",
   "execution_count": 7,
   "metadata": {},
   "outputs": [
    {
     "name": "stdout",
     "output_type": "stream",
     "text": [
      "          date    type category   amount month_year day_of_week\n",
      "38   10/1/2020  Income   Salary  28158.0   Oct-2020    Thursday\n",
      "29   10/9/2020  Income  Refunds    472.0   Oct-2020      Friday\n",
      "21   11/1/2020  Income   Salary  38158.0   Nov-2020      Sunday\n",
      "5    11/7/2020  Income  Refunds    472.0   Nov-2020    Saturday\n",
      "186   5/1/2020  Income   Salary  28158.0   May-2020      Friday\n",
      "161   6/1/2020  Income   Salary  28830.0   Jun-2020      Monday\n",
      "129  6/20/2020  Income  Refunds    680.0   Jun-2020    Saturday\n",
      "144   6/3/2020  Income   Grants    550.0   Jun-2020   Wednesday\n",
      "121   7/1/2020  Income   Salary  28830.0   Jul-2020   Wednesday\n",
      "94    8/1/2020  Income   Salary  28830.0   Aug-2020    Saturday\n",
      "70   8/25/2020  Income  Refunds   1416.0   Aug-2020     Tuesday\n",
      "64    9/1/2020  Income   Salary  28158.0   Sep-2020     Tuesday\n",
      "47   9/12/2020  Income  Refunds    472.0   Sep-2020    Saturday\n"
     ]
    },
    {
     "name": "stderr",
     "output_type": "stream",
     "text": [
      "<ipython-input-7-05241012b55c>:5: SettingWithCopyWarning: \n",
      "A value is trying to be set on a copy of a slice from a DataFrame.\n",
      "Try using .loc[row_indexer,col_indexer] = value instead\n",
      "\n",
      "See the caveats in the documentation: https://pandas.pydata.org/pandas-docs/stable/user_guide/indexing.html#returning-a-view-versus-a-copy\n",
      "  expense_data['amount'] = pd.to_numeric(expense_data['amount'])\n",
      "<ipython-input-7-05241012b55c>:6: SettingWithCopyWarning: \n",
      "A value is trying to be set on a copy of a slice from a DataFrame.\n",
      "Try using .loc[row_indexer,col_indexer] = value instead\n",
      "\n",
      "See the caveats in the documentation: https://pandas.pydata.org/pandas-docs/stable/user_guide/indexing.html#returning-a-view-versus-a-copy\n",
      "  expense_data['amount'] = expense_data['amount'].apply(lambda x:abs(x))\n",
      "<ipython-input-7-05241012b55c>:9: SettingWithCopyWarning: \n",
      "A value is trying to be set on a copy of a slice from a DataFrame.\n",
      "Try using .loc[row_indexer,col_indexer] = value instead\n",
      "\n",
      "See the caveats in the documentation: https://pandas.pydata.org/pandas-docs/stable/user_guide/indexing.html#returning-a-view-versus-a-copy\n",
      "  income_data['amount'] = pd.to_numeric(income_data['amount'])\n"
     ]
    }
   ],
   "source": [
    "expense_data = base_data.loc[base_data['type'] == 'Expenses']\n",
    "income_data = base_data.loc[base_data['type'] == 'Income']\n",
    "\n",
    "#Convert the negative strings of expense to positive\n",
    "expense_data['amount'] = pd.to_numeric(expense_data['amount'])\n",
    "expense_data['amount'] = expense_data['amount'].apply(lambda x:abs(x))\n",
    "\n",
    "#Convert Income data to Integer\n",
    "income_data['amount'] = pd.to_numeric(income_data['amount'])\n",
    "\n",
    "#Sort both the dataframes\n",
    "expense_data = expense_data.sort_values(by=['date'],ascending=True)\n",
    "income_data = income_data.sort_values(by=['date'],ascending=True)\n",
    "\n",
    "print(income_data)"
   ]
  },
  {
   "cell_type": "markdown",
   "metadata": {},
   "source": [
    "### Calculations\n",
    "\n",
    "1. API 1 - Get the MoM changes for expenditure\n",
    "2. API 2 - Calculate the overall expenditure change every Month (SUM, MEAN & STD).\n",
    "3. API 3 - Get All the Month Names\n",
    "4. API 4 - For each month get the different categories of expenditure and income.\n",
    "5. API 5 - For each month get the Top 5 Spend Categories (Grouped Column Chart)\n",
    "6. API 6 - Get the sum change of income and expenditure every month"
   ]
  },
  {
   "cell_type": "markdown",
   "metadata": {},
   "source": [
    "### Get the MoM change of expenditure for the last two months"
   ]
  },
  {
   "cell_type": "code",
   "execution_count": 8,
   "metadata": {},
   "outputs": [
    {
     "name": "stdout",
     "output_type": "stream",
     "text": [
      "{'mom': 294.76}\n"
     ]
    }
   ],
   "source": [
    "grouped_expense_date = expense_data.groupby('month_year',as_index=False).agg({'amount':[np.sum]})\n",
    "grouped_expense_date = grouped_expense_date.tail(2)\n",
    "\n",
    "mom_expense_change = {}\n",
    "list_mom_change = grouped_expense_date.values.tolist()\n",
    "\n",
    "#Getting the difference\n",
    "diff_change = list(map(lambda x: x[1], list_mom_change))\n",
    "\n",
    "mom_expense_change['mom'] = round(diff_change[0] - diff_change[1],2)\n",
    "print(mom_expense_change)"
   ]
  },
  {
   "cell_type": "markdown",
   "metadata": {},
   "source": [
    "### Highcharts Converter Functions\n",
    "\n",
    "Functions identified are -\n",
    "\n",
    "1. create_box_plot() - Creates a box-plot series\n",
    "2. create_single_series() - Creates a simple single series for Pie Chart\n",
    "3. create_single_series() - Create a simple single series for column/bar chart"
   ]
  },
  {
   "cell_type": "code",
   "execution_count": 9,
   "metadata": {},
   "outputs": [],
   "source": [
    "#Get the color based on the last two values\n",
    "def determine_color(data,type_positive):\n",
    "    value_list = list(map(lambda x:x[1],data.values.tolist()))\n",
    "    \n",
    "    if(type_positive):\n",
    "        if(value_list[-1]>value_list[-2]):\n",
    "            return 'green'\n",
    "        elif(value_list[-1]<value_list[-2]):\n",
    "            return 'red'\n",
    "    else:\n",
    "        if(value_list[-1]>value_list[-2]):\n",
    "            return 'red'\n",
    "        elif(value_list[-1]<value_list[-2]):\n",
    "            return 'green'\n",
    "    return 'orange'"
   ]
  },
  {
   "cell_type": "code",
   "execution_count": 10,
   "metadata": {},
   "outputs": [],
   "source": [
    "def create_box_plot(data, x_axis_title, y_axis_title):\n",
    "    series = {}\n",
    "    \n",
    "    #Creating the x-axis\n",
    "    x_axis_categories = list(map(lambda x: x[0], data.values.tolist()))\n",
    "    series['xAxis'] = {}\n",
    "    series['xAxis']['categories'] = x_axis_categories\n",
    "    series['xAxis']['title'] = {'text': x_axis_title}\n",
    "    \n",
    "    #Creating the y-axis\n",
    "    series['yAxis'] = {}\n",
    "    series['yAxis']['title'] = {'text': y_axis_title}\n",
    "    plot_lines_array = []\n",
    "    series['yAxis']['plotLines'] = plot_lines_array\n",
    "    plot_lines_dict = {}\n",
    "    plot_lines_dict['value'] = round(np.average(list(map(lambda x: x[3], data.values.tolist()))),2)\n",
    "    plot_lines_dict['color'] = 'red'\n",
    "    plot_lines_dict['width'] = 1\n",
    "    plot_lines_dict['label'] = {'text': 'Average Mean - ' + str(round(plot_lines_dict['value'],2)), 'align': 'center', 'style': {'color': 'black'}}\n",
    "    plot_lines_array.append(plot_lines_dict)\n",
    "    \n",
    "    #Creating the series\n",
    "    #Drop the name column\n",
    "    data = data.drop('month_year', axis=1)\n",
    "    series_array = []\n",
    "    series['series'] = series_array\n",
    "    series_dict = {}\n",
    "    series_dict['name'] = 'Observations'\n",
    "    series_dict['data'] = data.values.tolist()\n",
    "    series_array.append(series_dict)\n",
    "    \n",
    "    return series\n",
    "\n",
    "def create_single_series_pie(data, series_name):\n",
    "    series = {}\n",
    "    \n",
    "    #Creating the series\n",
    "    series_array = []\n",
    "    series['series'] = series_array\n",
    "    series_dict = {}\n",
    "    series_dict['type'] = 'pie'\n",
    "    series_dict['name'] = series_name\n",
    "    series_dict['data'] = data.values.tolist()\n",
    "    series_array.append(series_dict)\n",
    "    \n",
    "    return series\n",
    "\n",
    "def create_multiple_series(data1, data2, y_axis_title, series_1_name, series_2_name):\n",
    "    series = {}\n",
    "    \n",
    "    #Creating the x-axis\n",
    "    x_axis_categories = list(map(lambda x: x[0], data1.values.tolist()))\n",
    "    series['xAxis'] = {}\n",
    "    series['xAxis']['categories'] = x_axis_categories\n",
    "    \n",
    "    #Creating the y-axis\n",
    "    series['yAxis'] = {}\n",
    "    series['yAxis']['title'] = {'text': y_axis_title}\n",
    "    \n",
    "    #Creating the series\n",
    "    series_array = []\n",
    "    series['series'] = series_array\n",
    "    #1st Series\n",
    "    series_dict1 = {}\n",
    "    series_dict1['type'] = 'line'\n",
    "    series_dict1['color'] = determine_color(data1, False)\n",
    "    series_dict1['name'] = series_1_name\n",
    "    series_dict1['data'] = list(map(lambda x:x[1],data1.values.tolist()))\n",
    "    series_array.append(series_dict1)\n",
    "    #2nd Series\n",
    "    series_dict2 = {}\n",
    "    series_dict2['type'] = 'line'\n",
    "    series_dict2['color'] = determine_color(data2, True)\n",
    "    series_dict2['name'] = series_2_name\n",
    "    series_dict2['data'] = list(map(lambda x:x[1],data2.values.tolist()))\n",
    "    series_array.append(series_dict2)\n",
    "    \n",
    "    return series\n",
    "    "
   ]
  },
  {
   "cell_type": "markdown",
   "metadata": {},
   "source": [
    "### Calculate the overall expenditure change every Month (SUM, MEAN & STD) & get all the month names"
   ]
  },
  {
   "cell_type": "code",
   "execution_count": 11,
   "metadata": {},
   "outputs": [
    {
     "name": "stdout",
     "output_type": "stream",
     "text": [
      "{'xAxis': {'categories': ['May-2020', 'Jun-2020', 'Jul-2020', 'Aug-2020', 'Sep-2020', 'Oct-2020', 'Nov-2020'], 'title': {'text': 'Month-Year'}}, 'yAxis': {'title': {'text': 'Observations'}, 'plotLines': [{'value': 1332.41, 'color': 'red', 'width': 1, 'label': {'text': 'Average Mean - 1332.41', 'align': 'center', 'style': {'color': 'black'}}}]}, 'series': [{'name': 'Observations', 'data': [[29108.05, 575.0, 1212.84, 1212.84, 1824.76], [33945.61, 298.0, 917.45, 917.45, 2000.14], [30051.9, 509.5, 1155.84, 1155.84, 2145.2], [31371.44, 501.0, 1161.91, 1161.91, 1797.29], [28568.29, 540.0, 1242.1, 1242.1, 1802.5], [28863.05, 570.0, 1697.83, 1697.83, 2261.48], [38777.91, 490.0, 1938.9, 1938.9, 3313.45]]}]}\n",
      "{'month_names': ['May-2020', 'Jun-2020', 'Jul-2020', 'Aug-2020', 'Sep-2020', 'Oct-2020', 'Nov-2020']}\n"
     ]
    }
   ],
   "source": [
    "grouped_expense_date = expense_data.groupby('month_year',as_index=False).agg({'amount':[np.sum, np.median, np.mean, np.average, np.std]})\n",
    "grouped_expense_date.columns = ['month_year','sum', 'median', 'mean', 'averagae', 'standard_deviation']\n",
    "\n",
    "#Sort the date\n",
    "grouped_expense_date['date'] = grouped_expense_date['month_year'].apply(lambda x: datetime.strptime(x, '%b-%Y').strftime(\"%m/%d/%Y\"))\n",
    "grouped_expense_date = grouped_expense_date.sort_values(by=['date'])\n",
    "\n",
    "grouped_expense_date = grouped_expense_date.drop(['date'],axis=1)\n",
    "\n",
    "#Round the three numeric columns\n",
    "grouped_expense_date['sum'] = grouped_expense_date['sum'].apply(lambda x: round(x,2))\n",
    "grouped_expense_date['median'] = grouped_expense_date['median'].apply(lambda x: round(x,2))\n",
    "grouped_expense_date['mean'] = grouped_expense_date['mean'].apply(lambda x: round(x,2))\n",
    "grouped_expense_date['averagae'] = grouped_expense_date['averagae'].apply(lambda x: round(x,2))\n",
    "grouped_expense_date['standard_deviation'] = grouped_expense_date['standard_deviation'].apply(lambda x: round(x,2))\n",
    "\n",
    "series_dict = create_box_plot(grouped_expense_date, 'Month-Year', 'Observations')\n",
    "print(series_dict)\n",
    "\n",
    "month_names_dict = {}\n",
    "\n",
    "month_names_list = list(map(lambda x: x[0], grouped_expense_date.values.tolist()))\n",
    "month_names_dict['month_names'] = month_names_list\n",
    "print(month_names_dict)"
   ]
  },
  {
   "cell_type": "markdown",
   "metadata": {},
   "source": [
    "### Calculate the overall income change every Month (SUM, MEAN & MEDIAN) & get all the month names"
   ]
  },
  {
   "cell_type": "code",
   "execution_count": 13,
   "metadata": {},
   "outputs": [
    {
     "name": "stdout",
     "output_type": "stream",
     "text": [
      "{'xAxis': {'categories': ['May-2020', 'Jun-2020', 'Jul-2020', 'Aug-2020', 'Sep-2020', 'Oct-2020', 'Nov-2020'], 'title': {'text': 'Month-Year'}}, 'yAxis': {'title': {'text': 'Observations'}, 'plotLines': [{'value': 18582.29, 'color': 'red', 'width': 1, 'label': {'text': 'Average Mean - 18582.29', 'align': 'center', 'style': {'color': 'black'}}}]}, 'series': [{'name': 'Observations', 'data': [[28158.0, 28158.0, 28158.0], [30060.0, 680.0, 10020.0], [28830.0, 28830.0, 28830.0], [30246.0, 15123.0, 15123.0], [28630.0, 14315.0, 14315.0], [28630.0, 14315.0, 14315.0], [38630.0, 19315.0, 19315.0]]}]}\n"
     ]
    }
   ],
   "source": [
    "grouped_income_date = income_data.groupby('month_year', as_index=False).agg({'amount': [np.sum, np.median, np.mean]})\n",
    "grouped_income_date.columns = ['month_year', 'sum', 'median', 'mean']\n",
    "\n",
    "# Sort the date\n",
    "grouped_income_date['date'] = grouped_income_date['month_year'].apply(lambda x: datetime.strptime(x, '%b-%Y').strftime(\"%m/%d/%Y\"))\n",
    "grouped_income_date = grouped_income_date.sort_values(by=['date'])\n",
    "\n",
    "grouped_income_date = grouped_income_date.drop(['date'], axis=1)\n",
    "\n",
    "# Round the three numeric columns\n",
    "grouped_income_date['sum'] = grouped_income_date['sum'].apply(lambda x: round(x, 2))\n",
    "grouped_income_date['median'] = grouped_income_date['median'].apply(lambda x: round(x, 2))\n",
    "grouped_income_date['mean'] = grouped_income_date['mean'].apply(lambda x: round(x, 2))\n",
    "\n",
    "series_dict = create_box_plot(grouped_income_date, 'Month-Year', 'Observations')\n",
    "print(series_dict)"
   ]
  },
  {
   "cell_type": "markdown",
   "metadata": {},
   "source": [
    "### For each month get the different categories of expenditure and income."
   ]
  },
  {
   "cell_type": "code",
   "execution_count": 14,
   "metadata": {},
   "outputs": [
    {
     "name": "stdout",
     "output_type": "stream",
     "text": [
      "{'series': [{'type': 'pie', 'name': 'Monthly Expenditure', 'data': [['Bills', 5175.8], ['Cigarette', 2979.0], ['Electronics', 800.0], ['Food', 3222.25], ['Home', 12750.0], ['Insurance', 1000.0], ['Shopping', 1100.0], ['Social', 1500.0], ['Telephone', 201.0], ['Wine', 380.0]]}]}\n",
      "{'series': [{'type': 'pie', 'name': 'Monthly Income', 'data': [['Salary', 28158.0]]}]}\n"
     ]
    }
   ],
   "source": [
    "def get_expenditure_category_by_month_name(month_name):\n",
    "    expense_month_year = expense_data.loc[expense_data['month_year']==month_name]\n",
    "    \n",
    "    expense_month_year = expense_month_year.groupby('category', as_index=False).agg({'amount' : [np.sum]})\n",
    "    expense_month_year.columns = ['category_name', 'sum_amount']\n",
    "    return create_single_series_pie(expense_month_year, 'Monthly Expenditure')\n",
    "\n",
    "def get_income_category_by_month_name(month_name):\n",
    "    income_month_year = income_data.loc[income_data['month_year']==month_name]\n",
    "    \n",
    "    income_month_year = income_month_year.groupby('category', as_index=False).agg({'amount' : [np.sum]})\n",
    "    return create_single_series_pie(income_month_year, 'Monthly Income')\n",
    "\n",
    "\n",
    "#driver example\n",
    "print(get_expenditure_category_by_month_name('May-2020'))\n",
    "print(get_income_category_by_month_name('May-2020'))"
   ]
  },
  {
   "cell_type": "markdown",
   "metadata": {},
   "source": [
    "### Get the sum change of income and expenditure every month"
   ]
  },
  {
   "cell_type": "code",
   "execution_count": 15,
   "metadata": {},
   "outputs": [
    {
     "name": "stdout",
     "output_type": "stream",
     "text": [
      "{'xAxis': {'categories': ['May-2020', 'Jun-2020', 'Jul-2020', 'Aug-2020', 'Sep-2020', 'Oct-2020', 'Nov-2020']}, 'yAxis': {'title': {'text': 'Total Count'}}, 'series': [{'type': 'line', 'color': 'red', 'name': 'Expense/Month', 'data': [29108.05, 33945.61, 30051.9, 31371.44, 28568.29, 28863.05, 38777.91]}, {'type': 'line', 'color': 'green', 'name': 'Income/Month', 'data': [28158.0, 30060.0, 28830.0, 30246.0, 28630.0, 28630.0, 38630.0]}]}\n"
     ]
    }
   ],
   "source": [
    "#Expense\n",
    "grouped_expense_date = expense_data.groupby('month_year',as_index=False).agg({'amount':[np.sum]})\n",
    "grouped_expense_date.columns = ['month_year','sum']\n",
    "\n",
    "#Sort the date\n",
    "grouped_expense_date['date'] = grouped_expense_date['month_year'].apply(lambda x: datetime.strptime(x, '%b-%Y').strftime(\"%m/%d/%Y\"))\n",
    "grouped_expense_date = grouped_expense_date.sort_values(by=['date'])\n",
    "\n",
    "grouped_expense_date = grouped_expense_date.drop(['date'],axis=1)\n",
    "\n",
    "#Round the three numeric columns\n",
    "grouped_expense_date['sum'] = grouped_expense_date['sum'].apply(lambda x: round(x,2))\n",
    "\n",
    "#Income\n",
    "grouped_income_date = income_data.groupby('month_year',as_index=False).agg({'amount':[np.sum]})\n",
    "grouped_income_date.columns = ['month_year','sum']\n",
    "\n",
    "#Sort the date\n",
    "grouped_income_date['date'] = grouped_income_date['month_year'].apply(lambda x: datetime.strptime(x, '%b-%Y').strftime(\"%m/%d/%Y\"))\n",
    "grouped_income_date = grouped_income_date.sort_values(by=['date'])\n",
    "\n",
    "grouped_income_date = grouped_income_date.drop(['date'],axis=1)\n",
    "\n",
    "#Round the three numeric columns\n",
    "grouped_income_date['sum'] = grouped_income_date['sum'].apply(lambda x: round(x,2))\n",
    "\n",
    "print(create_multiple_series(grouped_expense_date, grouped_income_date, 'Total Count', 'Expense/Month', 'Income/Month'))"
   ]
  }
 ],
 "metadata": {
  "kernelspec": {
   "display_name": "Python 3",
   "language": "python",
   "name": "python3"
  },
  "language_info": {
   "codemirror_mode": {
    "name": "ipython",
    "version": 3
   },
   "file_extension": ".py",
   "mimetype": "text/x-python",
   "name": "python",
   "nbconvert_exporter": "python",
   "pygments_lexer": "ipython3",
   "version": "3.8.6"
  }
 },
 "nbformat": 4,
 "nbformat_minor": 4
}
