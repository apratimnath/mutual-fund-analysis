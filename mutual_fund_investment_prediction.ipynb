{
 "cells": [
  {
   "cell_type": "markdown",
   "metadata": {},
   "source": [
    "# Mutual Fund Investment Prediction\n",
    "## Using RNN (Long Short Term Memory Prediction)\n",
    "\n",
    "LSTM has a special architecture which enables it to forget the unnecessary information. \n",
    "\n",
    "1. The sigmoid layer takes the input X(t) and h(t-1) and decides which parts from old output should be removed (by outputting a 0).\n",
    "2. The next step is to decide and store information from the new input X(t) in the cell state. A Sigmoid layer decides which of the new information should be updated or ignored. A tanh layer creates a vector of all the possible values from the new input. These two are multiplied to update the new cell sate. This new memory is then added to old memory c(t-1) to give c(t).\n",
    "3. Finally, we need to decide what we’re going to output. A sigmoid layer decides which parts of the cell state we are going to output. Then, we put the cell state through a tanh generating all the possible values and multiply it by the output of the sigmoid gate, so that we only output the parts we decided to. Our model does not learn this answer from the immediate dependency, rather it learnt it from long term dependency."
   ]
  },
  {
   "cell_type": "markdown",
   "metadata": {},
   "source": [
    "## Importing all the necessary modules"
   ]
  },
  {
   "cell_type": "code",
   "execution_count": 1,
   "metadata": {},
   "outputs": [],
   "source": [
    "import gspread\n",
    "from oauth2client.service_account import ServiceAccountCredentials\n",
    "import pandas as pd\n",
    "from datetime import datetime,timedelta,date\n",
    "import smtplib\n",
    "from email.message import EmailMessage\n",
    "import json\n",
    "import numpy as np\n",
    "from sklearn.metrics import mean_squared_error\n",
    "from sklearn.preprocessing import MinMaxScaler\n",
    "from keras.models import Sequential\n",
    "from keras.layers import Dense\n",
    "from keras.layers import LSTM\n",
    "from math import sqrt\n",
    "from matplotlib import pyplot"
   ]
  },
  {
   "cell_type": "markdown",
   "metadata": {},
   "source": [
    "## Connecting to Google Sheet\n",
    "\n",
    "Our primary data source is google sheet, where the daily changes for all the mutual funds, are recorded.\n",
    "\n",
    "To connect the Google Sheet, we perform the following -\n",
    "\n",
    "1. Go to https://console.cloud.google.com/ and create a new Project.\n",
    "2. In the created project, enable Google Drive API\n",
    "3. Create credentials to access the Google Drive API.\n",
    "4. Enable the Google Sheets API\n",
    "5. Share the Google Sheet with the dev ID generated in the credential"
   ]
  },
  {
   "cell_type": "code",
   "execution_count": 2,
   "metadata": {},
   "outputs": [],
   "source": [
    "#Defining the scope of the OAuth Authentication\n",
    "scope = [\"https://spreadsheets.google.com/feeds\",'https://www.googleapis.com/auth/spreadsheets',\"https://www.googleapis.com/auth/drive.file\",\"https://www.googleapis.com/auth/drive\"]\n",
    "         \n",
    "#Getting the credentials\n",
    "creds = ServiceAccountCredentials.from_json_keyfile_name(\"D:/Codebase/Mutual_Fund_Analysis/Backend/mutual-fund-analysis/secret_config/google_credentials.json\", scope)\n",
    "#Connecting to the Google Spreadsheet Client\n",
    "client = gspread.authorize(creds)\n",
    "\n",
    "#Getting the spreadsheet\n",
    "sheet = client.open(\"Daily_MF_Returns\").sheet1"
   ]
  },
  {
   "cell_type": "code",
   "execution_count": 3,
   "metadata": {},
   "outputs": [],
   "source": [
    "mf_data_list = sheet.get_all_records()\n",
    "\n",
    "#Creating the dataframe\n",
    "mf_data = pd.DataFrame(mf_data_list)"
   ]
  },
  {
   "cell_type": "markdown",
   "metadata": {},
   "source": [
    "## Data Conversion\n",
    "### Convert the Data in Date and Value format with GROUP BY DATE\n",
    "\n",
    "The following changes needs to be done on the data - \n",
    "1. Group the data by dates and calculate sum.\n",
    "2. Drop all other columns except the date and sum column\n",
    "3. Create a new Date Column in YYYY-MM-DD format\n",
    "4. Drop the previous date column\n",
    "5. Rename the columns => Date, Value"
   ]
  },
  {
   "cell_type": "code",
   "execution_count": 13,
   "metadata": {},
   "outputs": [
    {
     "data": {
      "image/png": "[encoded data removed]",
      "text/plain": [
       "<Figure size 1008x576 with 1 Axes>"
      ]
     },
     "metadata": {
      "needs_background": "light"
     },
     "output_type": "display_data"
    },
    {
     "name": "stdout",
     "output_type": "stream",
     "text": [
      "          Date     Value\n",
      "33  2020-11-19   6676.27\n",
      "34  2020-11-20   6670.78\n",
      "35  2020-11-21   6686.48\n",
      "36  2020-11-24   6697.89\n",
      "37  2020-11-25   6685.71\n",
      "..         ...       ...\n",
      "28  2021-01-29  14793.35\n",
      "29  2021-01-30  14786.76\n",
      "30  2021-01-31  14786.76\n",
      "31  2021-02-01  14786.76\n",
      "32  2021-02-02  14829.25\n",
      "\n",
      "[66 rows x 2 columns]\n"
     ]
    }
   ],
   "source": [
    "grouped_mf_data = mf_data.groupby('Date',as_index=False).agg({'Return':[np.sum]})\n",
    "#Renaming the columns\n",
    "grouped_mf_data.columns = ['Date','Value']\n",
    "\n",
    "#Create a new date column to sort the data\n",
    "grouped_mf_data['Modified_Date']=grouped_mf_data['Date'].apply(lambda x : datetime.strptime(x, '%m/%d/%Y'))\n",
    "grouped_mf_data.sort_values(by=['Modified_Date'], inplace=True, ascending=True)\n",
    "\n",
    "#Create the sting equivalent of the date olum\n",
    "grouped_mf_data['Date_Modified_Str']=grouped_mf_data['Date'].apply(lambda x : datetime.strptime(x, '%m/%d/%Y').strftime(\"%Y-%m-%d\"))\n",
    "\n",
    "#Drop the extra columns and rename\n",
    "grouped_mf_data = grouped_mf_data.drop(['Date','Modified_Date'],axis=1)\n",
    "grouped_mf_data.columns = ['Value','Date']\n",
    "grouped_mf_data = grouped_mf_data[['Date','Value']]\n",
    "\n",
    "#Function to determine the color\n",
    "\n",
    "def get_line_color(values):\n",
    "    if(values[-1][1]>values[-2][1]):\n",
    "        return 'green'\n",
    "    return 'red'\n",
    "\n",
    "#Show graph - Method 2\n",
    "fig, ax = pyplot.subplots()\n",
    "grouped_mf_data['Actual_Date']=grouped_mf_data['Date'].apply(lambda x : datetime.strptime(x, '%Y-%m-%d'))\n",
    "ax.plot(grouped_mf_data['Actual_Date'],grouped_mf_data['Value'], color=get_line_color(grouped_mf_data.values.tolist()))\n",
    "ax.xaxis_date()     # interpret the x-axis values as dates\n",
    "fig.set_size_inches(14, 8, forward=True)\n",
    "fig.autofmt_xdate() # make space for and rotate the x-axis tick labels\n",
    "pyplot.show()\n",
    "\n",
    "grouped_mf_data = grouped_mf_data.drop(['Actual_Date'],axis=1)\n",
    "\n",
    "print(grouped_mf_data)"
   ]
  },
  {
   "cell_type": "markdown",
   "metadata": {},
   "source": [
    "## Transforming the Data Set to make it suitale for the LSTM Model"
   ]
  },
  {
   "cell_type": "markdown",
   "metadata": {},
   "source": [
    "### Dropping the date column for Time Series Transformation"
   ]
  },
  {
   "cell_type": "code",
   "execution_count": 14,
   "metadata": {},
   "outputs": [],
   "source": [
    "grouped_mf_data = grouped_mf_data.drop(['Date'],axis=1)"
   ]
  },
  {
   "cell_type": "markdown",
   "metadata": {},
   "source": [
    "## Converting Time Series to Stationary\n",
    "\n",
    "The given dataset is not stationary.\n",
    "\n",
    "This means that there is a structure in the data that is dependent on the time. Specifically, there is an modulating (changing) trend in the data.\n",
    "\n",
    "Stationary data is easier to model and will very likely result in more skillful forecasts.\n",
    "\n",
    "The trend can be removed from the observations, then added back to forecasts later to return the prediction to the original scale and calculate a comparable error score.\n",
    "\n",
    "A standard way to remove a trend is by **differencing the data**. That is the **observation from the previous time step (t-1) is subtracted from the current observation (t).** This removes the trend and we are left with a difference series, or the changes to the observations from one time step to the next.\n",
    "\n",
    "We can achieve this automatically **using the diff() function in pandas.**\n",
    "Alternatively, we can get finer grained control and write our own function to do this, which is preferred for its flexibility in this case.\n",
    "\n",
    "Below is a function called difference() that calculates a differenced series. Note that the first observation in the series is skipped as there is no prior observation with which to calculate a differenced value.\n",
    "\n",
    "We also need to **invert this process in order to take forecasts made on the differenced series back into their original scale.**\n",
    "\n",
    "The function below, called **inverse_difference(), inverts this operation.**"
   ]
  },
  {
   "cell_type": "code",
   "execution_count": 31,
   "metadata": {},
   "outputs": [],
   "source": [
    "# create a differenced series\n",
    "def difference(supervised_converted_data, interval=1):\n",
    "    data_diiference = list()\n",
    "    for i in range(interval, len(supervised_converted_data)):\n",
    "        value = supervised_converted_data[i][0] - supervised_converted_data[i - interval][0]\n",
    "        data_diiference.append(value)\n",
    "    return pd.Series(data_diiference)\n",
    "\n",
    "\n",
    "# invert differenced value\n",
    "def inverse_difference(history, yhat, interval=1):\n",
    "    return yhat + history[-interval]\n"
   ]
  },
  {
   "cell_type": "markdown",
   "metadata": {},
   "source": [
    "## Transforming the data to a supervised learning problem\n",
    "\n",
    "The LSTM model in Keras assumes that your data is divided into input (X) and output (y) components.\n",
    "\n",
    "For a time series problem, we can achieve this by using the observation from the last time step (t-1) as the input and the observation at the current time step (t) as the output.\n",
    "\n",
    "We can achieve this using the shift() function in Pandas that will push all values in a series down by a specified number places. We require a shift of 1 place, which will become the input variables. The time series as it stands will be the output variables.\n",
    "\n",
    "We can then concatenate these two series together to create a DataFrame ready for supervised learning. The pushed-down series will have a new position at the top with no value. A NaN (not a number) value will be used in this position. We will replace these NaN values with 0 values, which the LSTM model will have to learn as “the start of the series” or “I have no data here”."
   ]
  },
  {
   "cell_type": "code",
   "execution_count": 29,
   "metadata": {},
   "outputs": [],
   "source": [
    "def timeseries_to_supervised(grouped_data_values, lag=1):\n",
    "    grouped_data = pd.DataFrame(grouped_data_values)\n",
    "    columns = [grouped_data.shift(i) for i in range(1, lag+1)]\n",
    "    columns.append(grouped_data)\n",
    "    supervised_converted_data = pd.concat(columns, axis=1)\n",
    "    supervised_converted_data.fillna(0, inplace=True)\n",
    "    return supervised_converted_data"
   ]
  },
  {
   "cell_type": "markdown",
   "metadata": {},
   "source": [
    "### Splitting the data into train and test\n",
    "\n",
    "Cannot use test_train_split from sckit-learn for the following reasons -\n",
    "\n",
    "1. The input is list of values (1-D) and not dataset\n",
    "2. There is no X and Y parameters based on this kind of classification\n",
    "3. Only values selected based on differential data value (1-D)\n",
    "\n",
    "The solution is -\n",
    "\n",
    "1. The ratio of split is 70-30\n",
    "2. Based on the ratio split the value"
   ]
  },
  {
   "cell_type": "code",
   "execution_count": 47,
   "metadata": {},
   "outputs": [
    {
     "name": "stdout",
     "output_type": "stream",
     "text": [
      "[[ 0.00000e+00 -5.49000e+00]\n",
      " [-5.49000e+00  1.57000e+01]\n",
      " [ 1.57000e+01  1.14100e+01]\n",
      " [ 1.14100e+01 -1.21800e+01]\n",
      " [-1.21800e+01 -2.58400e+01]\n",
      " [-2.58400e+01  1.62400e+01]\n",
      " [ 1.62400e+01  8.49000e+00]\n",
      " [ 8.49000e+00  1.90000e-01]\n",
      " [ 1.90000e-01 -4.10000e+00]\n",
      " [-4.10000e+00  1.33300e+01]\n",
      " [ 1.33300e+01  9.69000e+00]\n",
      " [ 9.69000e+00  7.61000e+00]\n",
      " [ 7.61000e+00  6.70000e+00]\n",
      " [ 6.70000e+00  0.00000e+00]\n",
      " [ 0.00000e+00  9.68000e+00]\n",
      " [ 9.68000e+00 -1.38400e+01]\n",
      " [-1.38400e+01  5.03130e+02]\n",
      " [ 5.03130e+02  5.00640e+02]\n",
      " [ 5.00640e+02  1.02157e+03]\n",
      " [ 1.02157e+03  2.50000e+01]\n",
      " [ 2.50000e+01  9.12000e+00]\n",
      " [ 9.12000e+00  5.08490e+02]\n",
      " [ 5.08490e+02 -3.42900e+01]\n",
      " [-3.42900e+01  4.94590e+02]\n",
      " [ 4.94590e+02 -2.74000e+01]\n",
      " [-2.74000e+01  4.36300e+01]\n",
      " [ 4.36300e+01  2.38800e+01]\n",
      " [ 2.38800e+01  0.00000e+00]\n",
      " [ 0.00000e+00  0.00000e+00]\n",
      " [ 0.00000e+00  3.43300e+01]\n",
      " [ 3.43300e+01 -4.39000e+00]\n",
      " [-4.39000e+00  0.00000e+00]\n",
      " [ 0.00000e+00  1.17100e+01]\n",
      " [ 1.17100e+01  1.40000e+01]\n",
      " [ 1.40000e+01  1.60900e+01]\n",
      " [ 1.60900e+01  0.00000e+00]\n",
      " [ 0.00000e+00  6.61600e+01]\n",
      " [ 6.61600e+01  3.87000e+01]\n",
      " [ 3.87000e+01  3.24000e+00]\n",
      " [ 3.24000e+00  3.87790e+02]\n",
      " [ 3.87790e+02  3.79000e+00]\n",
      " [ 3.79000e+00  0.00000e+00]\n",
      " [ 0.00000e+00  0.00000e+00]\n",
      " [ 0.00000e+00  2.16531e+03]\n",
      " [ 2.16531e+03  4.91920e+02]]\n",
      "[[ 4.9192e+02  4.7613e+02]\n",
      " [ 4.7613e+02  4.8081e+02]\n",
      " [ 4.8081e+02 -3.2170e+01]\n",
      " [-3.2170e+01  0.0000e+00]\n",
      " [ 0.0000e+00  0.0000e+00]\n",
      " [ 0.0000e+00  4.0304e+02]\n",
      " [ 4.0304e+02  6.8500e+01]\n",
      " [ 6.8500e+01  4.0680e+01]\n",
      " [ 4.0680e+01 -3.1100e+00]\n",
      " [-3.1100e+00  4.5902e+02]\n",
      " [ 4.5902e+02  0.0000e+00]\n",
      " [ 0.0000e+00  0.0000e+00]\n",
      " [ 0.0000e+00 -4.4210e+01]\n",
      " [-4.4210e+01  9.0000e-02]\n",
      " [ 9.0000e-02 -4.0350e+01]\n",
      " [-4.0350e+01 -2.5950e+01]\n",
      " [-2.5950e+01 -6.5900e+00]\n",
      " [-6.5900e+00  0.0000e+00]\n",
      " [ 0.0000e+00  0.0000e+00]\n",
      " [ 0.0000e+00  4.2490e+01]]\n"
     ]
    }
   ],
   "source": [
    "def get_percentage(percent, whole):\n",
    "  return (percent * whole) // 100\n",
    "\n",
    "# Splitting the data into test and train for calculating accuracy\n",
    "def get_train_test_data(list_of_values, percentage_of_split=70):\n",
    "    seperator_value = get_percentage(percentage_of_split,len(list_of_values))\n",
    "    return list_of_values[:seperator_value],list_of_values[seperator_value:]\n",
    "\n",
    "    \n",
    "#Running the above steps\n",
    "\n",
    "#Get the values\n",
    "grouped_values = grouped_mf_data.values\n",
    "\n",
    "#Conver to linear series\n",
    "linear_values = difference(grouped_values,1)\n",
    "\n",
    "#transform to supervised learning\n",
    "supervised_data = timeseries_to_supervised(linear_values,1)\n",
    "supervised_values = supervised_data.values\n",
    "\n",
    "#split into train and test data\n",
    "train_data, test_data = get_train_test_data(supervised_values,70)\n",
    "\n",
    "print(train_data)\n",
    "print(test_data)"
   ]
  },
  {
   "cell_type": "markdown",
   "metadata": {},
   "source": [
    "### Transform Time Series to Scale\n",
    "\n",
    "Like other neural networks, **LSTMs expect data to be within the scale of the activation function used by the network.**\n",
    "\n",
    "The default activation function for LSTMs is the **hyperbolic tangent (tanh), which outputs values between -1 and 1.** This is the preferred range for the time series data.\n",
    "\n",
    "To make the experiment fair, the scaling coefficients (min and max) values must be calculated on the training dataset and applied to scale the test dataset and any forecasts. This is to avoid contaminating the experiment with knowledge from the test dataset, which might give the model a small edge.\n",
    "\n",
    "We can transform the dataset to the range [-1, 1] using the MinMaxScaler class. Like other scikit-learn transform classes, it requires data provided in a matrix format with rows and columns. Therefore, we must reshape our NumPy arrays before transforming."
   ]
  },
  {
   "cell_type": "code",
   "execution_count": 54,
   "metadata": {},
   "outputs": [
    {
     "name": "stdout",
     "output_type": "stream",
     "text": [
      "[[-0.9688216  -0.97381342]\n",
      " [-0.97381342 -0.95454628]\n",
      " [-0.95454628 -0.95844699]\n",
      " [-0.95844699 -0.97989634]\n",
      " [-0.97989634 -0.99231678]\n",
      " [-0.99231678 -0.95405528]\n",
      " [-0.95405528 -0.96110202]\n",
      " [-0.96110202 -0.96864885]\n",
      " [-0.96864885 -0.97254955]\n",
      " [-0.97254955 -0.95670122]\n",
      " [-0.95670122 -0.96001091]\n",
      " [-0.96001091 -0.96190216]\n",
      " [-0.96190216 -0.96272959]\n",
      " [-0.96272959 -0.9688216 ]\n",
      " [-0.9688216  -0.96002   ]\n",
      " [-0.96002    -0.98140571]\n",
      " [-0.98140571 -0.51134752]\n",
      " [-0.51134752 -0.51361157]\n",
      " [-0.51361157 -0.03995272]\n",
      " [-0.03995272 -0.9460902 ]\n",
      " [-0.9460902  -0.96052919]\n",
      " [-0.96052919 -0.5064739 ]\n",
      " [-0.5064739  -1.        ]\n",
      " [-1.         -0.51911257]\n",
      " [-0.51911257 -0.99373522]\n",
      " [-0.99373522 -0.92915075]\n",
      " [-0.92915075 -0.94710857]\n",
      " [-0.94710857 -0.9688216 ]\n",
      " [-0.9688216  -0.9688216 ]\n",
      " [-0.9688216  -0.93760684]\n",
      " [-0.93760684 -0.97281324]\n",
      " [-0.97281324 -0.9688216 ]\n",
      " [-0.9688216  -0.95817421]\n",
      " [-0.95817421 -0.95609202]\n",
      " [-0.95609202 -0.95419167]\n",
      " [-0.95419167 -0.9688216 ]\n",
      " [-0.9688216  -0.90866521]\n",
      " [-0.90866521 -0.93363339]\n",
      " [-0.93363339 -0.96587561]\n",
      " [-0.96587561 -0.61622113]\n",
      " [-0.61622113 -0.96537552]\n",
      " [-0.96537552 -0.9688216 ]\n",
      " [-0.9688216  -0.9688216 ]\n",
      " [-0.9688216   1.        ]\n",
      " [ 1.         -0.52154028]]\n"
     ]
    }
   ],
   "source": [
    "# scale train and test data to [-1, 1]\n",
    "def scale(train, test):\n",
    "    # fit scaler\n",
    "    scaler = MinMaxScaler(feature_range=(-1, 1))\n",
    "    scaler = scaler.fit(train)\n",
    "    # transform train\n",
    "    train = train.reshape(train.shape[0], train.shape[1])\n",
    "    train_scaled = scaler.transform(train)\n",
    "    # transform test\n",
    "    test = test.reshape(test.shape[0], test.shape[1])\n",
    "    test_scaled = scaler.transform(test)\n",
    "    return scaler, train_scaled, test_scaled\n",
    " \n",
    "# inverse scaling for a forecasted value\n",
    "def invert_scale(scaler, X, value):\n",
    "    new_row = [x for x in X] + [value]\n",
    "    array = np.array(new_row)\n",
    "    array = array.reshape(1, len(array))\n",
    "    inverted = scaler.inverse_transform(array)\n",
    "    return inverted[0, -1]\n",
    "\n",
    "# transform the scale of the data\n",
    "scaler, train_scaled, test_scaled = scale(train_data, test_data)\n",
    "\n",
    "print(train_scaled)"
   ]
  },
  {
   "cell_type": "markdown",
   "metadata": {},
   "source": [
    "### Fitting the LTSM Model\n",
    "\n",
    "The shape of the input data must be specified in the LSTM layer using the “batch_input_shape” argument as a tuple that specifies the expected number of observations to read each batch, the number of time steps, and the number of features.\n",
    "\n",
    "The batch size is often much smaller than the total number of samples. It, along with the number of epochs, defines how quickly the network learns the data (how often the weights are updated).\n",
    "\n",
    "The final import parameter in defining the LSTM layer is the number of neurons, also called the number of memory units or blocks. This is a reasonably simple problem and a number between 1 and 5 should be sufficient.\n",
    "\n",
    "The line below creates a single LSTM hidden layer that also specifies the expectations of the input layer via the “batch_input_shape” argument.\n",
    "\n",
    "The network requires a single neuron in the output layer with a linear activation to predict the number of data at the next time step.\n",
    "\n",
    "Once the network is specified, it must be compiled into an efficient symbolic representation using a backend mathematical library, such as TensorFlow or Theano.\n",
    "\n",
    "In compiling the network, we must specify a loss function and optimization algorithm. We will use “mean_squared_error” as the loss function as it closely matches RMSE that we will are interested in, and the efficient ADAM optimization algorithm."
   ]
  },
  {
   "cell_type": "code",
   "execution_count": 51,
   "metadata": {},
   "outputs": [],
   "source": [
    "# fit an LSTM network to training data\n",
    "def fit_lstm(train, batch_size, nb_epoch, neurons):\n",
    "    X, y = train[:, 0:-1], train[:, -1]\n",
    "    X = X.reshape(X.shape[0], 1, X.shape[1])\n",
    "    model = Sequential()\n",
    "    model.add(LSTM(neurons, batch_input_shape=(batch_size, X.shape[1], X.shape[2]), stateful=True))\n",
    "    model.add(Dense(1))\n",
    "    model.compile(loss='mean_squared_error', optimizer='adam')\n",
    "    for i in range(nb_epoch):\n",
    "        model.fit(X, y, epochs=1, batch_size=batch_size, verbose=0, shuffle=False)\n",
    "        model.reset_states()\n",
    "    return model\n",
    " \n",
    "# make a one-step forecast\n",
    "def forecast_lstm(model, batch_size, X):\n",
    "    X = X.reshape(1, 1, len(X))\n",
    "    yhat = model.predict(X, batch_size=batch_size)\n",
    "    return yhat[0,0]"
   ]
  },
  {
   "cell_type": "code",
   "execution_count": 52,
   "metadata": {},
   "outputs": [
    {
     "data": {
      "text/plain": [
       "array([[-0.897668  ],\n",
       "       [-0.97105277],\n",
       "       [-1.0338275 ],\n",
       "       [-1.0471455 ],\n",
       "       [-1.0387571 ],\n",
       "       [-1.0260862 ],\n",
       "       [-1.0050303 ],\n",
       "       [-0.97993517],\n",
       "       [-0.9604075 ],\n",
       "       [-0.9431089 ],\n",
       "       [-0.92256594],\n",
       "       [-0.90421283],\n",
       "       [-0.8886678 ],\n",
       "       [-0.87441874],\n",
       "       [-0.862623  ],\n",
       "       [-0.8482915 ],\n",
       "       [-0.84109175],\n",
       "       [-0.5824872 ],\n",
       "       [-0.39759633],\n",
       "       [-0.8585756 ],\n",
       "       [-0.60163164],\n",
       "       [-0.6684649 ],\n",
       "       [-0.9461566 ],\n",
       "       [-0.7595047 ],\n",
       "       [-0.9822495 ],\n",
       "       [-0.85425746],\n",
       "       [-0.9345355 ],\n",
       "       [-0.9611199 ],\n",
       "       [-0.99461365],\n",
       "       [-1.0123724 ],\n",
       "       [-1.011713  ],\n",
       "       [-0.9990579 ],\n",
       "       [-0.99347293],\n",
       "       [-0.9825088 ],\n",
       "       [-0.9682952 ],\n",
       "       [-0.95385134],\n",
       "       [-0.94274306],\n",
       "       [-0.91891587],\n",
       "       [-0.88560784],\n",
       "       [-0.8620995 ],\n",
       "       [-0.7063273 ],\n",
       "       [-0.5332873 ],\n",
       "       [-0.47617024],\n",
       "       [-0.48539108],\n",
       "       [-0.41166145]], dtype=float32)"
      ]
     },
     "execution_count": 52,
     "metadata": {},
     "output_type": "execute_result"
    }
   ],
   "source": [
    "# fit the model\n",
    "lstm_model = fit_lstm(train_scaled, 1, 3000, 4)\n",
    "# forecast the entire training dataset to build up state for forecasting\n",
    "train_reshaped = train_scaled[:, 0].reshape(len(train_scaled), 1, 1)\n",
    "lstm_model.predict(train_reshaped, batch_size=1)"
   ]
  },
  {
   "cell_type": "code",
   "execution_count": 73,
   "metadata": {},
   "outputs": [
    {
     "name": "stdout",
     "output_type": "stream",
     "text": [
      "Month=1, Predicted=13055.619315, Expected=13487.000000\n",
      "Month=2, Predicted=13494.649094, Expected=13967.810000\n",
      "Month=3, Predicted=13939.653681, Expected=13935.640000\n",
      "Month=4, Predicted=14034.549228, Expected=13935.640000\n",
      "Month=5, Predicted=13936.286703, Expected=13935.640000\n",
      "Month=6, Predicted=13903.859769, Expected=14338.680000\n",
      "Month=7, Predicted=14290.677977, Expected=14407.180000\n",
      "Month=8, Predicted=14473.064056, Expected=14447.860000\n",
      "Month=9, Predicted=14524.420310, Expected=14444.750000\n",
      "Month=10, Predicted=14541.214880, Expected=14903.770000\n",
      "Month=11, Predicted=15135.374351, Expected=14903.770000\n",
      "Month=12, Predicted=15346.697771, Expected=14903.770000\n",
      "Month=13, Predicted=15387.504959, Expected=14859.560000\n",
      "Month=14, Predicted=15375.024865, Expected=14859.650000\n",
      "Month=15, Predicted=15338.728913, Expected=14819.300000\n",
      "Month=16, Predicted=15299.795779, Expected=14793.350000\n",
      "Month=17, Predicted=15242.064545, Expected=14786.760000\n",
      "Month=18, Predicted=15197.610499, Expected=14786.760000\n",
      "Month=19, Predicted=15165.586717, Expected=14786.760000\n",
      "Month=20, Predicted=15136.185850, Expected=14829.250000\n"
     ]
    }
   ],
   "source": [
    "# walk-forward validation on the test data\n",
    "predictions = list()\n",
    "for i in range(len(test_scaled)):\n",
    "    # make one-step forecast\n",
    "    X, y = test_scaled[i, 0:-1], test_scaled[i, -1]\n",
    "    yhat = forecast_lstm(lstm_model, 1, X)\n",
    "    # invert scaling\n",
    "    yhat = invert_scale(scaler, X, yhat)\n",
    "    # invert differencing\n",
    "    yhat = inverse_difference(grouped_values, yhat, len(test_scaled)+1-i)\n",
    "    # store forecast\n",
    "    predictions.append(yhat)\n",
    "    expected = grouped_values[len(train_data) + i + 1]\n",
    "    print('Month=%d, Predicted=%f, Expected=%f' % (i+1, yhat, expected))"
   ]
  },
  {
   "cell_type": "markdown",
   "metadata": {},
   "source": [
    "### Performance Analysis\n",
    "\n",
    "A line plot of the test data (blue) vs the predicted values (orange) is also created, providing context for the model skill."
   ]
  },
  {
   "cell_type": "code",
   "execution_count": 74,
   "metadata": {},
   "outputs": [
    {
     "name": "stdout",
     "output_type": "stream",
     "text": [
      "Test RMSE: 367.091\n"
     ]
    },
    {
     "data": {
      "image/png": "[encoded data removed]",
      "text/plain": [
       "<Figure size 432x288 with 1 Axes>"
      ]
     },
     "metadata": {
      "needs_background": "light"
     },
     "output_type": "display_data"
    }
   ],
   "source": [
    "# report performance\n",
    "seperator_value = get_percentage(70,len(grouped_values))\n",
    "y_true = grouped_values[seperator_value:]\n",
    "\n",
    "rmse = sqrt(mean_squared_error(y_true, predictions))\n",
    "print('Test RMSE: %.3f' % rmse)\n",
    "\n",
    "# line plot of observed vs predicted\n",
    "pyplot.plot(y_true)\n",
    "pyplot.plot(predictions)\n",
    "pyplot.show()"
   ]
  },
  {
   "cell_type": "code",
   "execution_count": null,
   "metadata": {},
   "outputs": [],
   "source": []
  }
 ],
 "metadata": {
  "kernelspec": {
   "display_name": "Python 3",
   "language": "python",
   "name": "python3"
  },
  "language_info": {
   "codemirror_mode": {
    "name": "ipython",
    "version": 3
   },
   "file_extension": ".py",
   "mimetype": "text/x-python",
   "name": "python",
   "nbconvert_exporter": "python",
   "pygments_lexer": "ipython3",
   "version": "3.8.6"
  }
 },
 "nbformat": 4,
 "nbformat_minor": 4
}
