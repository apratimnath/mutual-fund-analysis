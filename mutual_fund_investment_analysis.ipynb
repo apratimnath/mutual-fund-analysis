{
 "cells": [
  {
   "cell_type": "markdown",
   "metadata": {},
   "source": [
    "# Mutual Fund Investment Analysis"
   ]
  },
  {
   "cell_type": "markdown",
   "metadata": {},
   "source": [
    "## Python (Flask) App, majorly for Backend APIs for Individual Mutual Fund Investment Analysis"
   ]
  },
  {
   "cell_type": "markdown",
   "metadata": {},
   "source": [
    "### Problem Statement\n",
    "\n",
    "Over the years, investors have tried and tested various methodologies to keep a track of all investements. The various problems faced for the same are -\n",
    "\n",
    "1. Multi-vendor - The Mutual Funds are invested via multiple vendors, like Groww, Paytm Money, etc., hence no unified interface to track all investments.\n",
    "2. The historic data is not accurately predicted - Over time the historic data loses importance and is overriden to be fitted only in Time Series Graph.\n",
    "3. Periodic Tracking of data - Everyday net change in the invested amount.\n",
    "4. Personalized Prediction - Currently all Mutual Fund Predictions are not personalized, only based on overall NAV changes."
   ]
  },
  {
   "cell_type": "markdown",
   "metadata": {},
   "source": [
    "### Data collection, Storage and Analysis Blueprint\n",
    "\n",
    "Data from differen apps will be collected in the following way -\n",
    "\n",
    "1. Per day data of return is manually entered in Google Sheet.\n",
    "2. The data from the Google Sheet is fetched in Python, and stored in a MySQL DB.\n",
    "3. Data fetching happens everyday, at 11:00 a.m. (APScheduler)\n",
    "4. Success or failure mails for everyday update is triggered based on the storage of data in the respective database.\n",
    "5. APIs expose the various data, grouped by various factors to be used in the UI.\n",
    "6. Once the stored data crosses a significant volume, this data is splitted into train and test data for future analysis.\n",
    "7. The predicted data is again exposed over APIs, grouped by various factors."
   ]
  },
  {
   "cell_type": "code",
   "execution_count": null,
   "metadata": {},
   "outputs": [],
   "source": []
  }
 ],
 "metadata": {
  "kernelspec": {
   "display_name": "Python 3",
   "language": "python",
   "name": "python3"
  },
  "language_info": {
   "codemirror_mode": {
    "name": "ipython",
    "version": 3
   },
   "file_extension": ".py",
   "mimetype": "text/x-python",
   "name": "python",
   "nbconvert_exporter": "python",
   "pygments_lexer": "ipython3",
   "version": "3.8.6"
  }
 },
 "nbformat": 4,
 "nbformat_minor": 4
}
